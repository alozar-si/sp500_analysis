{
 "cells": [
  {
   "cell_type": "markdown",
   "metadata": {},
   "source": [
    "# Pytorch: Warm-up"
   ]
  },
  {
   "cell_type": "code",
   "execution_count": 1,
   "metadata": {},
   "outputs": [],
   "source": [
    "from __future__ import print_function\n",
    "import numpy as np\n",
    "import torch\n",
    "SEED=123\n",
    "np.random.seed(SEED)\n",
    "torch.manual_seed(SEED)\n",
    "import matplotlib.pyplot as plt\n",
    "%matplotlib inline"
   ]
  },
  {
   "cell_type": "code",
   "execution_count": 6,
   "metadata": {},
   "outputs": [],
   "source": [
    "torch.ones(size=(3,2));\n",
    "torch.zeros(size=(3,6));"
   ]
  },
  {
   "cell_type": "markdown",
   "metadata": {},
   "source": [
    "## Dataloader"
   ]
  },
  {
   "cell_type": "code",
   "execution_count": 20,
   "metadata": {},
   "outputs": [],
   "source": [
    "\n",
    "class dataset:\n",
    "    \n",
    "    def __init__(self):\n",
    "        self._data = tuple(range(100))\n",
    "        \n",
    "    def __len__(self):\n",
    "        return len(self._data)\n",
    "    \n",
    "    def __getitem__(self,index):\n",
    "        return self._data[index]\n",
    "    \n",
    "data = dataset()"
   ]
  },
  {
   "cell_type": "code",
   "execution_count": 22,
   "metadata": {},
   "outputs": [
    {
     "name": "stdout",
     "output_type": "stream",
     "text": [
      "Iteration 0 batch data tensor([79, 33, 92, 60, 68, 35, 12, 70, 94, 98])\n",
      "Iteration 1 batch data tensor([20, 65, 46,  3, 43, 19, 78, 44, 41, 69])\n",
      "Iteration 2 batch data tensor([95, 36, 39,  2, 90, 55, 52, 40, 11, 74])\n",
      "Iteration 3 batch data tensor([31, 34, 71, 61, 84, 88, 49, 28, 96, 85])\n",
      "Iteration 4 batch data tensor([51, 25, 81,  9,  7, 57, 22, 53, 32, 64])\n",
      "Iteration 5 batch data tensor([76, 13,  5, 29, 26, 14, 82, 15,  6, 66])\n",
      "Iteration 6 batch data tensor([47, 86, 30, 75, 23, 87, 42, 54, 10,  8])\n",
      "Iteration 7 batch data tensor([50, 93, 38, 83, 24, 56, 99, 91, 59, 37])\n",
      "Iteration 8 batch data tensor([16,  1, 89, 48, 80,  4, 67, 58, 97, 21])\n",
      "Iteration 9 batch data tensor([72, 63, 62, 77, 73, 17, 45, 18, 27,  0])\n",
      "Iteration 10 batch data tensor([51, 16, 97, 85, 58, 80, 22, 64, 61, 44])\n",
      "Iteration 11 batch data tensor([83, 66, 60, 79, 99, 89, 90,  3, 65, 48])\n",
      "Iteration 12 batch data tensor([ 6, 91, 75, 63, 14,  1, 70, 35, 41, 73])\n",
      "Iteration 13 batch data tensor([42, 43,  0, 34, 49, 17, 32, 78, 76, 18])\n",
      "Iteration 14 batch data tensor([98, 23, 50, 69, 59,  7, 15, 57, 24, 40])\n",
      "Iteration 15 batch data tensor([88, 11,  9, 19, 27, 94, 33, 30, 26, 52])\n",
      "Iteration 16 batch data tensor([68, 81, 37, 20, 95, 62, 87, 82, 36, 28])\n",
      "Iteration 17 batch data tensor([54, 86,  8, 77, 38, 21, 56, 12, 29, 39])\n",
      "Iteration 18 batch data tensor([84, 93, 45, 31, 47, 67,  4, 71, 46, 96])\n",
      "Iteration 19 batch data tensor([55, 10, 53,  5, 92, 74, 72, 25, 13,  2])\n"
     ]
    }
   ],
   "source": [
    "\n",
    "from torch.utils.data import DataLoader\n",
    "loader = DataLoader(data,batch_size=10,shuffle=True,num_workers=0)\n",
    "ctr = 0\n",
    "while ctr<20:\n",
    "    for batch_data in loader:\n",
    "        print('Iteration',ctr,'batch data',batch_data)\n",
    "        ctr += 1"
   ]
  },
  {
   "cell_type": "code",
   "execution_count": 23,
   "metadata": {},
   "outputs": [
    {
     "data": {
      "text/plain": [
       "tensor([[[ 0.3374, -0.1778, -0.3035, -0.5880,  0.3486,  0.6603],\n",
       "         [-0.2196, -0.3792,  0.7671, -1.1925,  0.6984, -1.4097],\n",
       "         [ 0.1794,  1.8951,  0.4954,  0.2692, -0.0770, -1.0205],\n",
       "         [-0.1690,  0.9178,  1.5810,  1.3010,  1.2753, -0.2010],\n",
       "         [ 0.4965, -1.5723,  0.9666, -1.1481, -1.1589,  0.3255]],\n",
       "\n",
       "        [[-0.6315, -2.8400, -1.3250,  0.1784, -2.1338,  1.0524],\n",
       "         [-0.3885, -0.9343, -0.4991, -1.0867,  0.8805,  1.5542],\n",
       "         [ 0.6266, -0.1755,  1.3111, -0.2199,  0.2190,  0.2045],\n",
       "         [ 0.5146,  0.9938, -0.2587, -1.0826,  0.1036, -2.1996],\n",
       "         [-0.0885, -0.5612,  0.6716,  0.6933, -0.9487, -0.0765]]])"
      ]
     },
     "execution_count": 23,
     "metadata": {},
     "output_type": "execute_result"
    }
   ],
   "source": [
    "# Create a 2D tensor of shape (1,5,5) with some negative and positive values\n",
    "torch.manual_seed(123)\n",
    "data = torch.randn(60).reshape(2,5,6)\n",
    "data"
   ]
  },
  {
   "cell_type": "code",
   "execution_count": 48,
   "metadata": {},
   "outputs": [
    {
     "name": "stdout",
     "output_type": "stream",
     "text": [
      "tensor([[[0.3374, 0.0000, 0.0000, 0.0000, 0.3486, 0.6603],\n",
      "         [0.0000, 0.0000, 0.7671, 0.0000, 0.6984, 0.0000],\n",
      "         [0.1794, 1.8951, 0.4954, 0.2692, 0.0000, 0.0000],\n",
      "         [0.0000, 0.9178, 1.5810, 1.3010, 1.2753, 0.0000],\n",
      "         [0.4965, 0.0000, 0.9666, 0.0000, 0.0000, 0.3255]],\n",
      "\n",
      "        [[0.0000, 0.0000, 0.0000, 0.1784, 0.0000, 1.0524],\n",
      "         [0.0000, 0.0000, 0.0000, 0.0000, 0.8805, 1.5542],\n",
      "         [0.6266, 0.0000, 1.3111, 0.0000, 0.2190, 0.2045],\n",
      "         [0.5146, 0.9938, 0.0000, 0.0000, 0.1036, 0.0000],\n",
      "         [0.0000, 0.0000, 0.6716, 0.6933, 0.0000, 0.0000]]])\n",
      "tensor([[[0.1807, 0.1290, 0.1290, 0.1290, 0.1828, 0.2496],\n",
      "         [0.1225, 0.1225, 0.2638, 0.1225, 0.2463, 0.1225],\n",
      "         [0.0935, 0.5198, 0.1282, 0.1023, 0.0781, 0.0781],\n",
      "         [0.0602, 0.1507, 0.2925, 0.2211, 0.2154, 0.0602],\n",
      "         [0.1898, 0.1155, 0.3037, 0.1155, 0.1155, 0.1600]],\n",
      "\n",
      "        [[0.1241, 0.1241, 0.1241, 0.1483, 0.1241, 0.3554],\n",
      "         [0.0897, 0.0897, 0.0897, 0.0897, 0.2165, 0.4246],\n",
      "         [0.1861, 0.0995, 0.3690, 0.0995, 0.1238, 0.1220],\n",
      "         [0.1972, 0.3184, 0.1179, 0.1179, 0.1307, 0.1179],\n",
      "         [0.1257, 0.1257, 0.2460, 0.2514, 0.1257, 0.1257]]])\n",
      "tensor([[[0.1807, 0.2496],\n",
      "         [0.2638, 0.2463],\n",
      "         [0.5198, 0.1023],\n",
      "         [0.2925, 0.2211],\n",
      "         [0.3037, 0.1600]],\n",
      "\n",
      "        [[0.1241, 0.3554],\n",
      "         [0.0897, 0.4246],\n",
      "         [0.3690, 0.1238],\n",
      "         [0.3184, 0.1307],\n",
      "         [0.2460, 0.2514]]])\n"
     ]
    }
   ],
   "source": [
    "torch.manual_seed(123)\n",
    "\n",
    "# Implement steps 1 to 5\n",
    "op1 = torch.nn.ReLU()\n",
    "op2 = torch.nn.Softmax(dim=2)\n",
    "op3 = torch.nn.MaxPool2d(kernel_size=(1,3))\n",
    "\n",
    "op1r = op1(data)\n",
    "print(op1r)\n",
    "op2r = op2(op1r)\n",
    "print(op2r)\n",
    "op3r = op3(op2r)\n",
    "print(op3r)\n",
    "flattened = torch.flatten(op3(op2(op1(data))))\n",
    "#print('Shape of the output after flatten', flattened.shape)\n",
    "\n"
   ]
  },
  {
   "cell_type": "code",
   "execution_count": 31,
   "metadata": {},
   "outputs": [],
   "source": []
  },
  {
   "cell_type": "code",
   "execution_count": 32,
   "metadata": {},
   "outputs": [
    {
     "ename": "RuntimeError",
     "evalue": "Boolean value of Tensor with more than one value is ambiguous",
     "output_type": "error",
     "traceback": [
      "\u001b[1;31m---------------------------------------------------------------------------\u001b[0m",
      "\u001b[1;31mRuntimeError\u001b[0m                              Traceback (most recent call last)",
      "\u001b[1;32m~\\anaconda3\\lib\\site-packages\\IPython\\core\\formatters.py\u001b[0m in \u001b[0;36m__call__\u001b[1;34m(self, obj)\u001b[0m\n\u001b[0;32m    700\u001b[0m                 \u001b[0mtype_pprinters\u001b[0m\u001b[1;33m=\u001b[0m\u001b[0mself\u001b[0m\u001b[1;33m.\u001b[0m\u001b[0mtype_printers\u001b[0m\u001b[1;33m,\u001b[0m\u001b[1;33m\u001b[0m\u001b[1;33m\u001b[0m\u001b[0m\n\u001b[0;32m    701\u001b[0m                 deferred_pprinters=self.deferred_printers)\n\u001b[1;32m--> 702\u001b[1;33m             \u001b[0mprinter\u001b[0m\u001b[1;33m.\u001b[0m\u001b[0mpretty\u001b[0m\u001b[1;33m(\u001b[0m\u001b[0mobj\u001b[0m\u001b[1;33m)\u001b[0m\u001b[1;33m\u001b[0m\u001b[1;33m\u001b[0m\u001b[0m\n\u001b[0m\u001b[0;32m    703\u001b[0m             \u001b[0mprinter\u001b[0m\u001b[1;33m.\u001b[0m\u001b[0mflush\u001b[0m\u001b[1;33m(\u001b[0m\u001b[1;33m)\u001b[0m\u001b[1;33m\u001b[0m\u001b[1;33m\u001b[0m\u001b[0m\n\u001b[0;32m    704\u001b[0m             \u001b[1;32mreturn\u001b[0m \u001b[0mstream\u001b[0m\u001b[1;33m.\u001b[0m\u001b[0mgetvalue\u001b[0m\u001b[1;33m(\u001b[0m\u001b[1;33m)\u001b[0m\u001b[1;33m\u001b[0m\u001b[1;33m\u001b[0m\u001b[0m\n",
      "\u001b[1;32m~\\anaconda3\\lib\\site-packages\\IPython\\lib\\pretty.py\u001b[0m in \u001b[0;36mpretty\u001b[1;34m(self, obj)\u001b[0m\n\u001b[0;32m    403\u001b[0m                         \u001b[1;32mif\u001b[0m \u001b[0mcls\u001b[0m \u001b[1;32mis\u001b[0m \u001b[1;32mnot\u001b[0m \u001b[0mobject\u001b[0m\u001b[0;31m \u001b[0m\u001b[0;31m\\\u001b[0m\u001b[1;33m\u001b[0m\u001b[1;33m\u001b[0m\u001b[0m\n\u001b[0;32m    404\u001b[0m                                 \u001b[1;32mand\u001b[0m \u001b[0mcallable\u001b[0m\u001b[1;33m(\u001b[0m\u001b[0mcls\u001b[0m\u001b[1;33m.\u001b[0m\u001b[0m__dict__\u001b[0m\u001b[1;33m.\u001b[0m\u001b[0mget\u001b[0m\u001b[1;33m(\u001b[0m\u001b[1;34m'__repr__'\u001b[0m\u001b[1;33m)\u001b[0m\u001b[1;33m)\u001b[0m\u001b[1;33m:\u001b[0m\u001b[1;33m\u001b[0m\u001b[1;33m\u001b[0m\u001b[0m\n\u001b[1;32m--> 405\u001b[1;33m                             \u001b[1;32mreturn\u001b[0m \u001b[0m_repr_pprint\u001b[0m\u001b[1;33m(\u001b[0m\u001b[0mobj\u001b[0m\u001b[1;33m,\u001b[0m \u001b[0mself\u001b[0m\u001b[1;33m,\u001b[0m \u001b[0mcycle\u001b[0m\u001b[1;33m)\u001b[0m\u001b[1;33m\u001b[0m\u001b[1;33m\u001b[0m\u001b[0m\n\u001b[0m\u001b[0;32m    406\u001b[0m \u001b[1;33m\u001b[0m\u001b[0m\n\u001b[0;32m    407\u001b[0m             \u001b[1;32mreturn\u001b[0m \u001b[0m_default_pprint\u001b[0m\u001b[1;33m(\u001b[0m\u001b[0mobj\u001b[0m\u001b[1;33m,\u001b[0m \u001b[0mself\u001b[0m\u001b[1;33m,\u001b[0m \u001b[0mcycle\u001b[0m\u001b[1;33m)\u001b[0m\u001b[1;33m\u001b[0m\u001b[1;33m\u001b[0m\u001b[0m\n",
      "\u001b[1;32m~\\anaconda3\\lib\\site-packages\\IPython\\lib\\pretty.py\u001b[0m in \u001b[0;36m_repr_pprint\u001b[1;34m(obj, p, cycle)\u001b[0m\n\u001b[0;32m    693\u001b[0m     \u001b[1;34m\"\"\"A pprint that just redirects to the normal repr function.\"\"\"\u001b[0m\u001b[1;33m\u001b[0m\u001b[1;33m\u001b[0m\u001b[0m\n\u001b[0;32m    694\u001b[0m     \u001b[1;31m# Find newlines and replace them with p.break_()\u001b[0m\u001b[1;33m\u001b[0m\u001b[1;33m\u001b[0m\u001b[1;33m\u001b[0m\u001b[0m\n\u001b[1;32m--> 695\u001b[1;33m     \u001b[0moutput\u001b[0m \u001b[1;33m=\u001b[0m \u001b[0mrepr\u001b[0m\u001b[1;33m(\u001b[0m\u001b[0mobj\u001b[0m\u001b[1;33m)\u001b[0m\u001b[1;33m\u001b[0m\u001b[1;33m\u001b[0m\u001b[0m\n\u001b[0m\u001b[0;32m    696\u001b[0m     \u001b[0mlines\u001b[0m \u001b[1;33m=\u001b[0m \u001b[0moutput\u001b[0m\u001b[1;33m.\u001b[0m\u001b[0msplitlines\u001b[0m\u001b[1;33m(\u001b[0m\u001b[1;33m)\u001b[0m\u001b[1;33m\u001b[0m\u001b[1;33m\u001b[0m\u001b[0m\n\u001b[0;32m    697\u001b[0m     \u001b[1;32mwith\u001b[0m \u001b[0mp\u001b[0m\u001b[1;33m.\u001b[0m\u001b[0mgroup\u001b[0m\u001b[1;33m(\u001b[0m\u001b[1;33m)\u001b[0m\u001b[1;33m:\u001b[0m\u001b[1;33m\u001b[0m\u001b[1;33m\u001b[0m\u001b[0m\n",
      "\u001b[1;32m~\\anaconda3\\lib\\site-packages\\torch\\nn\\modules\\module.py\u001b[0m in \u001b[0;36m__repr__\u001b[1;34m(self)\u001b[0m\n\u001b[0;32m   1358\u001b[0m         \u001b[1;31m# We treat the extra repr like the sub-module, one item per line\u001b[0m\u001b[1;33m\u001b[0m\u001b[1;33m\u001b[0m\u001b[1;33m\u001b[0m\u001b[0m\n\u001b[0;32m   1359\u001b[0m         \u001b[0mextra_lines\u001b[0m \u001b[1;33m=\u001b[0m \u001b[1;33m[\u001b[0m\u001b[1;33m]\u001b[0m\u001b[1;33m\u001b[0m\u001b[1;33m\u001b[0m\u001b[0m\n\u001b[1;32m-> 1360\u001b[1;33m         \u001b[0mextra_repr\u001b[0m \u001b[1;33m=\u001b[0m \u001b[0mself\u001b[0m\u001b[1;33m.\u001b[0m\u001b[0mextra_repr\u001b[0m\u001b[1;33m(\u001b[0m\u001b[1;33m)\u001b[0m\u001b[1;33m\u001b[0m\u001b[1;33m\u001b[0m\u001b[0m\n\u001b[0m\u001b[0;32m   1361\u001b[0m         \u001b[1;31m# empty string will be split into list ['']\u001b[0m\u001b[1;33m\u001b[0m\u001b[1;33m\u001b[0m\u001b[1;33m\u001b[0m\u001b[0m\n\u001b[0;32m   1362\u001b[0m         \u001b[1;32mif\u001b[0m \u001b[0mextra_repr\u001b[0m\u001b[1;33m:\u001b[0m\u001b[1;33m\u001b[0m\u001b[1;33m\u001b[0m\u001b[0m\n",
      "\u001b[1;32m~\\anaconda3\\lib\\site-packages\\torch\\nn\\modules\\activation.py\u001b[0m in \u001b[0;36mextra_repr\u001b[1;34m(self)\u001b[0m\n\u001b[0;32m    103\u001b[0m \u001b[1;33m\u001b[0m\u001b[0m\n\u001b[0;32m    104\u001b[0m     \u001b[1;32mdef\u001b[0m \u001b[0mextra_repr\u001b[0m\u001b[1;33m(\u001b[0m\u001b[0mself\u001b[0m\u001b[1;33m)\u001b[0m \u001b[1;33m->\u001b[0m \u001b[0mstr\u001b[0m\u001b[1;33m:\u001b[0m\u001b[1;33m\u001b[0m\u001b[1;33m\u001b[0m\u001b[0m\n\u001b[1;32m--> 105\u001b[1;33m         \u001b[0minplace_str\u001b[0m \u001b[1;33m=\u001b[0m \u001b[1;34m'inplace=True'\u001b[0m \u001b[1;32mif\u001b[0m \u001b[0mself\u001b[0m\u001b[1;33m.\u001b[0m\u001b[0minplace\u001b[0m \u001b[1;32melse\u001b[0m \u001b[1;34m''\u001b[0m\u001b[1;33m\u001b[0m\u001b[1;33m\u001b[0m\u001b[0m\n\u001b[0m\u001b[0;32m    106\u001b[0m         \u001b[1;32mreturn\u001b[0m \u001b[0minplace_str\u001b[0m\u001b[1;33m\u001b[0m\u001b[1;33m\u001b[0m\u001b[0m\n\u001b[0;32m    107\u001b[0m \u001b[1;33m\u001b[0m\u001b[0m\n",
      "\u001b[1;31mRuntimeError\u001b[0m: Boolean value of Tensor with more than one value is ambiguous"
     ]
    }
   ],
   "source": []
  },
  {
   "cell_type": "code",
   "execution_count": null,
   "metadata": {},
   "outputs": [],
   "source": []
  }
 ],
 "metadata": {
  "kernelspec": {
   "display_name": "Python 3",
   "language": "python",
   "name": "python3"
  },
  "language_info": {
   "codemirror_mode": {
    "name": "ipython",
    "version": 3
   },
   "file_extension": ".py",
   "mimetype": "text/x-python",
   "name": "python",
   "nbconvert_exporter": "python",
   "pygments_lexer": "ipython3",
   "version": "3.7.6"
  }
 },
 "nbformat": 4,
 "nbformat_minor": 4
}
